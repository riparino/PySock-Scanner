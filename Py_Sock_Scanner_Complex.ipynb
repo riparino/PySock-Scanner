{
  "nbformat": 4,
  "nbformat_minor": 0,
  "metadata": {
    "colab": {
      "name": "Py-Sock-Scanner.ipynb",
      "provenance": [],
      "collapsed_sections": []
    },
    "kernelspec": {
      "name": "python3",
      "display_name": "Python 3"
    }
  },
  "cells": [
    {
      "cell_type": "code",
      "metadata": {
        "id": "adbTva8n7IqG",
        "colab_type": "code",
        "colab": {
          "base_uri": "https://localhost:8080/",
          "height": 243
        },
        "outputId": "493da97d-8f52-432b-c3fc-b47e47d60588"
      },
      "source": [
        "#!/usr/bin/env python\n",
        "import socket\n",
        "import subprocess\n",
        "import sys\n",
        "from datetime import datetime\n",
        "\n",
        "# Clear the screen\n",
        "subprocess.call('clear', shell=True)\n",
        "\n",
        "# Ask for input\n",
        "# Modified to take explicit input from code for future form input\n",
        "remoteServer = input(\"Enter IP: \")\n",
        "remoteServerIP = socket.gethostbyname(remoteServer)\n",
        "\n",
        "# Print a nice banner with information on which host we are about to scan\n",
        "print(\"-\" * 60)\n",
        "print(\"Please wait, scanning remote host\", remoteServerIP)\n",
        "print(\"-\" * 60)\n",
        "\n",
        "# Check what time the scan started\n",
        "t1 = datetime.now()\n",
        "\n",
        "# Using the range function to specify ports (here it will scans all ports between 1 and 65536)\n",
        "# Error handling iterator included via exception\n",
        "\n",
        "try:\n",
        "    for port in range(1,65535):  \n",
        "        sock = socket.socket(socket.AF_INET, socket.SOCK_STREAM)\n",
        "        result = sock.connect_ex((remoteServerIP, port))\n",
        "        if result == 0:\n",
        "            print(\"Port {}: \t Open\".format(port))\n",
        "        sock.close()\n",
        "\n",
        "except KeyboardInterrupt:\n",
        "    print(\"You pressed Ctrl+C\")\n",
        "    sys.exit()\n",
        "\n",
        "except socket.gaierror:\n",
        "    print('Hostname could not be resolved. Exiting')\n",
        "    sys.exit()\n",
        "\n",
        "except socket.error:\n",
        "    print(\"Couldn't connect to server\")\n",
        "    sys.exit()\n",
        "\n",
        "# Checking the time again\n",
        "t2 = datetime.now()\n",
        "\n",
        "# Calculates the difference of time, to see how long it took to run the script\n",
        "total = t2 - t1\n",
        "\n",
        "# Printing the information to screen\n",
        "print(total)"
      ],
      "execution_count": 13,
      "outputs": [
        {
          "output_type": "stream",
          "text": [
            "Enter IP: 8.8.8.8\n",
            "------------------------------------------------------------\n",
            "Please wait, scanning remote host 8.8.8.8\n",
            "------------------------------------------------------------\n",
            "You pressed Ctrl+C\n"
          ],
          "name": "stdout"
        },
        {
          "output_type": "error",
          "ename": "SystemExit",
          "evalue": "ignored",
          "traceback": [
            "An exception has occurred, use %tb to see the full traceback.\n",
            "\u001b[0;31mSystemExit\u001b[0m\n"
          ]
        },
        {
          "output_type": "stream",
          "text": [
            "/usr/local/lib/python3.6/dist-packages/IPython/core/interactiveshell.py:2890: UserWarning: To exit: use 'exit', 'quit', or Ctrl-D.\n",
            "  warn(\"To exit: use 'exit', 'quit', or Ctrl-D.\", stacklevel=1)\n"
          ],
          "name": "stderr"
        }
      ]
    },
    {
      "cell_type": "code",
      "metadata": {
        "id": "67t_Nrg0BLew",
        "colab_type": "code",
        "colab": {
          "base_uri": "https://localhost:8080/",
          "height": 200
        },
        "outputId": "77324a6d-7f3e-4695-ccf7-88464bb8c455"
      },
      "source": [
        "!pip install python-nmap"
      ],
      "execution_count": 14,
      "outputs": [
        {
          "output_type": "stream",
          "text": [
            "Collecting python-nmap\n",
            "\u001b[?25l  Downloading https://files.pythonhosted.org/packages/dc/f2/9e1a2953d4d824e183ac033e3d223055e40e695fa6db2cb3e94a864eaa84/python-nmap-0.6.1.tar.gz (41kB)\n",
            "\r\u001b[K     |███████▉                        | 10kB 10.9MB/s eta 0:00:01\r\u001b[K     |███████████████▋                | 20kB 3.3MB/s eta 0:00:01\r\u001b[K     |███████████████████████▍        | 30kB 4.7MB/s eta 0:00:01\r\u001b[K     |███████████████████████████████▎| 40kB 3.0MB/s eta 0:00:01\r\u001b[K     |████████████████████████████████| 51kB 3.3MB/s \n",
            "\u001b[?25hBuilding wheels for collected packages: python-nmap\n",
            "  Building wheel for python-nmap (setup.py) ... \u001b[?25l\u001b[?25hdone\n",
            "  Created wheel for python-nmap: filename=python_nmap-0.6.1-cp36-none-any.whl size=19326 sha256=15a33c9cff7dace3490a223a77c46d99c9ef45643d92819a718120b292d5a37a\n",
            "  Stored in directory: /root/.cache/pip/wheels/bb/a6/48/4d9e2285291b458c3f17064b1dac2f2fb0045736cb88562854\n",
            "Successfully built python-nmap\n",
            "Installing collected packages: python-nmap\n",
            "Successfully installed python-nmap-0.6.1\n"
          ],
          "name": "stdout"
        }
      ]
    },
    {
      "cell_type": "code",
      "metadata": {
        "id": "ifOh_ckN-bTd",
        "colab_type": "code",
        "colab": {}
      },
      "source": [
        "from google.colab import drive\n",
        "drive.mount('/content/drive')"
      ],
      "execution_count": 0,
      "outputs": []
    },
    {
      "cell_type": "code",
      "metadata": {
        "id": "E9jmkp0eBa0V",
        "colab_type": "code",
        "colab": {
          "base_uri": "https://localhost:8080/",
          "height": 33
        },
        "outputId": "b5c3b092-0348-481a-8102-3b1c82de349c"
      },
      "source": [
        "!python python-nmap"
      ],
      "execution_count": 16,
      "outputs": [
        {
          "output_type": "stream",
          "text": [
            "python3: can't open file 'python-nmap': [Errno 2] No such file or directory\n"
          ],
          "name": "stdout"
        }
      ]
    },
    {
      "cell_type": "code",
      "metadata": {
        "id": "ksF1WqfpBfGu",
        "colab_type": "code",
        "colab": {
          "base_uri": "https://localhost:8080/",
          "height": 381
        },
        "outputId": "3916554a-6bd7-41f3-eb02-f4c9662732c0"
      },
      "source": [
        "#!/usr/bin/env python\n",
        "# -*- coding: latin-1 -*-\n",
        "\n",
        "\"\"\"\n",
        "example.py - 2011.11.09\n",
        "\n",
        "Author : Alexandre Norman - norman@xael.org\n",
        "Contributor: Steve 'Ashcrow' Milner - steve@gnulinux.net\n",
        "Licence : GPL v3 or any later version\n",
        "\n",
        "\n",
        "This program is free software: you can redistribute it and/or modify\n",
        "it under the terms of the GNU General Public License as published by\n",
        "the Free Software Foundation, either version 3 of the License, or\n",
        "any later version.\n",
        "\n",
        "This program is distributed in the hope that it will be useful,\n",
        "but WITHOUT ANY WARRANTY; without even the implied warranty of\n",
        "MERCHANTABILITY or FITNESS FOR A PARTICULAR PURPOSE.  See the\n",
        "GNU General Public License for more details.\n",
        "\n",
        "You should have received a copy of the GNU General Public License\n",
        "along with this program.  If not, see <http://www.gnu.org/licenses/>.\n",
        "\n",
        "\"\"\"\n",
        "import sys\n",
        "import os\n",
        "\n",
        "import nmap                         # import nmap.py module\n",
        "try:\n",
        "    nm = nmap.PortScanner()         # instantiate nmap.PortScanner object\n",
        "except nmap.PortScannerError:\n",
        "    print('Nmap not found', sys.exc_info()[0])\n",
        "    sys.exit(1)\n",
        "except:\n",
        "    print(\"Unexpected error:\", sys.exc_info()[0])\n",
        "    sys.exit(1)\n",
        "\n",
        "\n",
        "# Data structure looks like :\n",
        "#\n",
        "#      {'addresses': {'ipv4': '71.59.0.201'},\n",
        "#       'hostnames': [],\n",
        "#       'osmatch': [{'accuracy': '98',\n",
        "#                    'line': '36241',\n",
        "#                    'name': 'Juniper SA4000 SSL VPN gateway (IVE OS 7.0)',\n",
        "#                    'osclass': [{'accuracy': '98',\n",
        "#                                 'cpe': ['cpe:/h:juniper:sa4000',\n",
        "#                                         'cpe:/o:juniper:ive_os:7'],\n",
        "#                                 'osfamily': 'IVE OS',\n",
        "#                                 'osgen': '7.X',\n",
        "#                                 'type': 'firewall',\n",
        "#                                 'vendor': 'Juniper'}]},\n",
        "#                   {'accuracy': '91',\n",
        "#                    'line': '17374',\n",
        "#                    'name': 'Citrix Access Gateway VPN gateway',\n",
        "#                    'osclass': [{'accuracy': '91',\n",
        "#                                 'cpe': [],\n",
        "#                                 'osfamily': 'embedded',\n",
        "#                                 'osgen': None,\n",
        "#                                 'type': 'proxy server',\n",
        "#                                 'vendor': 'Citrix'}]}],\n",
        "#       'portused': [{'portid': '443', 'proto': 'tcp', 'state': 'open'},\n",
        "#                    {'portid': '113', 'proto': 'tcp', 'state': 'closed'}],\n",
        "#       'status': {'reason': 'syn-ack', 'state': 'up'},\n",
        "#       'tcp': {113: {'conf': '3',\n",
        "#                     'cpe': '',\n",
        "#                     'extrainfo': '',\n",
        "#                     'name': 'ident',\n",
        "#                     'product': '',\n",
        "#                     'reason': 'conn-refused',\n",
        "#                     'state': 'closed',\n",
        "#                     'version': ''},\n",
        "#               443: {'conf': '10',\n",
        "#                     'cpe': '',\n",
        "#                     'extrainfo': '',\n",
        "#                     'name': 'http',\n",
        "#                     'product': 'Juniper SA2000 or SA4000 VPN gateway http config',\n",
        "#                     'reason': 'syn-ack',\n",
        "#                     'state': 'open',\n",
        "#                     'version': ''}},\n",
        "#       'vendor': {}}\n",
        "\n",
        "\n",
        "\n",
        "nm.scan('71.59.0.201', '22-443')      # scan host 71.59.0.201, ports from 22 to 443\n",
        "nm.command_line()                   # get command line used for the scan : nmap -oX - -p 22-443 71.59.0.201\n",
        "nm.scaninfo()                       # get nmap scan informations {'tcp': {'services': '22-443', 'method': 'connect'}}\n",
        "nm.all_hosts()                      # get all hosts that were scanned\n",
        "nm['71.59.0.201'].hostname()          # get one hostname for host 71.59.0.201, usualy the user record\n",
        "nm['71.59.0.201'].hostnames()         # get list of hostnames for host 71.59.0.201 as a list of dict [{'name':'hostname1', 'type':'PTR'}, {'name':'hostname2', 'type':'user'}]\n",
        "nm['71.59.0.201'].state()             # get state of host 71.59.0.201 (up|down|unknown|skipped) \n",
        "nm['71.59.0.201'].all_protocols()     # get all scanned protocols ['tcp', 'udp'] in (ip|tcp|udp|sctp)\n",
        "if ('tcp' in nm['71.59.0.201']):\n",
        "    list(nm['71.59.0.201']['tcp'].keys()) # get all ports for tcp protocol\n",
        "\n",
        "nm['71.59.0.201'].all_tcp()           # get all ports for tcp protocol (sorted version)\n",
        "nm['71.59.0.201'].all_udp()           # get all ports for udp protocol (sorted version)\n",
        "nm['71.59.0.201'].all_ip()            # get all ports for ip protocol (sorted version)\n",
        "nm['71.59.0.201'].all_sctp()          # get all ports for sctp protocol (sorted version)\n",
        "if nm['71.59.0.201'].has_tcp(22):     # is there any information for port 22/tcp on host 71.59.0.201\n",
        "    nm['71.59.0.201']['tcp'][22]          # get infos about port 22 in tcp on host 71.59.0.201\n",
        "    nm['71.59.0.201'].tcp(22)             # get infos about port 22 in tcp on host 71.59.0.201\n",
        "    nm['71.59.0.201']['tcp'][22]['state'] # get state of port 22/tcp on host 71.59.0.201 (open\n",
        "\n",
        "\n",
        "# a more usefull example :\n",
        "for host in nm.all_hosts():\n",
        "    print('----------------------------------------------------')\n",
        "    print('Host : {0} ({1})'.format(host, nm[host].hostname()))\n",
        "    print('State : {0}'.format(nm[host].state()))\n",
        "\n",
        "    for proto in nm[host].all_protocols():\n",
        "        print('----------')\n",
        "        print('Protocol : {0}'.format(proto))\n",
        "\n",
        "        lport = list(nm[host][proto].keys())\n",
        "        lport.sort()\n",
        "        for port in lport:\n",
        "            print('port : {0}\\tstate : {1}'.format(port, nm[host][proto][port]))\n",
        "\n",
        "\n",
        "print('----------------------------------------------------')\n",
        "# print result as CSV\n",
        "print(nm.csv())\n",
        "\n",
        "\n",
        "\n",
        "print('----------------------------------------------------')\n",
        "# If you want to do a pingsweep on network 192.168.1.0/24:\n",
        "nm.scan(hosts='71.59.0.0/24', arguments='-n -sP -PE -PA21,23,80,3389')\n",
        "hosts_list = [(x, nm[x]['status']['state']) for x in nm.all_hosts()]\n",
        "for host, status in hosts_list:\n",
        "    print('{0}:{1}'.format(host, status))\n",
        "\n",
        "\n",
        "\n",
        "\n",
        "\n",
        "print('----------------------------------------------------')\n",
        "# Asynchronous usage of PortScannerAsync\n",
        "\n",
        "\n",
        "nma = nmap.PortScannerAsync()\n",
        "\n",
        "def callback_result(host, scan_result):\n",
        "    print('------------------')\n",
        "    print(host, scan_result)\n",
        "\n",
        "nma.scan(hosts='71.59.0.0/30', arguments='-sP', callback=callback_result)\n",
        "\n",
        "while nma.still_scanning():\n",
        "    print(\"Waiting ...\")\n",
        "    nma.wait(2)   # you can do whatever you want but I choose to wait after the end of the scan\n",
        "\n",
        "if (os.getuid() == 0):\n",
        "    print('----------------------------------------------------')\n",
        "    # Os detection (need root privileges)\n",
        "    nm.scan(\"71.59.0.201\", arguments=\"-O\")\n",
        "    if 'osmatch' in nm['71.59.0.201']:\n",
        "        for osmatch in nm['71.59.0.201']['osmatch']:\n",
        "            print('OsMatch.name : {0}'.format(osmatch['name']))\n",
        "            print('OsMatch.accuracy : {0}'.format(osmatch['accuracy']))\n",
        "            print('OsMatch.line : {0}'.format(osmatch['line']))\n",
        "            print('')\n",
        "\n",
        "            if 'osclass' in osmatch:\n",
        "                for osclass in osmatch['osclass']:\n",
        "                    print('OsClass.type : {0}'.format(osclass['type']))\n",
        "                    print('OsClass.vendor : {0}'.format(osclass['vendor']))\n",
        "                    print('OsClass.osfamily : {0}'.format(osclass['osfamily']))\n",
        "                    print('OsClass.osgen : {0}'.format(osclass['osgen']))\n",
        "                    print('OsClass.accuracy : {0}'.format(osclass['accuracy']))\n",
        "                    print('')\n",
        "\n",
        "\n",
        "    if 'fingerprint' in nm['71.59.0.201']:\n",
        "        print('Fingerprint : {0}'.format(nm['71.59.0.201']['fingerprint']))\n",
        "\n",
        "\n",
        "    # Vendor list for MAC address\n",
        "    print('scanning localnet')\n",
        "    nm.scan('192.168.0.0/24', arguments='-O')\n",
        "    for h in nm.all_hosts():\n",
        "        print(h)\n",
        "        if 'mac' in nm[h]['addresses']:\n",
        "            print(nm[h]['addresses'], nm[h]['vendor'])\n",
        "\n",
        "\n",
        "\n",
        "print('----------------------------------------------------')\n",
        "# Read output captured to a file\n",
        "# Example : nmap -oX - -p 22-443 -sV 71.59.0.201 > nmap_output.xml\n",
        "\n",
        "with open(\"./nmap_output.xml\", \"r\") as fd:\n",
        "    content = fd.read()\n",
        "    nm.analyse_nmap_xml_scan(content)\n",
        "    print(nm.csv())\n",
        "\n",
        "\n",
        "\n",
        "print('----------------------------------------------------')\n",
        "# Progressive scan with generator\n",
        "nm = nmap.PortScannerYield()\n",
        "for progressive_result in nm.scan('71.59.0.0/22', '22-25'):\n",
        "    print(progressive_result)"
      ],
      "execution_count": 18,
      "outputs": [
        {
          "output_type": "error",
          "ename": "KeyboardInterrupt",
          "evalue": "ignored",
          "traceback": [
            "\u001b[0;31m---------------------------------------------------------------------------\u001b[0m",
            "\u001b[0;31mKeyboardInterrupt\u001b[0m                         Traceback (most recent call last)",
            "\u001b[0;32m<ipython-input-18-a434c096b32b>\u001b[0m in \u001b[0;36m<module>\u001b[0;34m()\u001b[0m\n\u001b[1;32m     82\u001b[0m \u001b[0;34m\u001b[0m\u001b[0m\n\u001b[1;32m     83\u001b[0m \u001b[0;34m\u001b[0m\u001b[0m\n\u001b[0;32m---> 84\u001b[0;31m \u001b[0mnm\u001b[0m\u001b[0;34m.\u001b[0m\u001b[0mscan\u001b[0m\u001b[0;34m(\u001b[0m\u001b[0;34m'71.59.0.201'\u001b[0m\u001b[0;34m,\u001b[0m \u001b[0;34m'22-443'\u001b[0m\u001b[0;34m)\u001b[0m      \u001b[0;31m# scan host 71.59.0.201, ports from 22 to 443\u001b[0m\u001b[0;34m\u001b[0m\u001b[0;34m\u001b[0m\u001b[0m\n\u001b[0m\u001b[1;32m     85\u001b[0m \u001b[0mnm\u001b[0m\u001b[0;34m.\u001b[0m\u001b[0mcommand_line\u001b[0m\u001b[0;34m(\u001b[0m\u001b[0;34m)\u001b[0m                   \u001b[0;31m# get command line used for the scan : nmap -oX - -p 22-443 71.59.0.201\u001b[0m\u001b[0;34m\u001b[0m\u001b[0;34m\u001b[0m\u001b[0m\n\u001b[1;32m     86\u001b[0m \u001b[0mnm\u001b[0m\u001b[0;34m.\u001b[0m\u001b[0mscaninfo\u001b[0m\u001b[0;34m(\u001b[0m\u001b[0;34m)\u001b[0m                       \u001b[0;31m# get nmap scan informations {'tcp': {'services': '22-443', 'method': 'connect'}}\u001b[0m\u001b[0;34m\u001b[0m\u001b[0;34m\u001b[0m\u001b[0m\n",
            "\u001b[0;32m/usr/local/lib/python3.6/dist-packages/nmap/nmap.py\u001b[0m in \u001b[0;36mscan\u001b[0;34m(self, hosts, ports, arguments, sudo)\u001b[0m\n\u001b[1;32m    233\u001b[0m         \u001b[0;31m# wait until finished\u001b[0m\u001b[0;34m\u001b[0m\u001b[0;34m\u001b[0m\u001b[0;34m\u001b[0m\u001b[0m\n\u001b[1;32m    234\u001b[0m         \u001b[0;31m# get output\u001b[0m\u001b[0;34m\u001b[0m\u001b[0;34m\u001b[0m\u001b[0;34m\u001b[0m\u001b[0m\n\u001b[0;32m--> 235\u001b[0;31m         \u001b[0;34m(\u001b[0m\u001b[0mself\u001b[0m\u001b[0;34m.\u001b[0m\u001b[0m_nmap_last_output\u001b[0m\u001b[0;34m,\u001b[0m \u001b[0mnmap_err\u001b[0m\u001b[0;34m)\u001b[0m \u001b[0;34m=\u001b[0m \u001b[0mp\u001b[0m\u001b[0;34m.\u001b[0m\u001b[0mcommunicate\u001b[0m\u001b[0;34m(\u001b[0m\u001b[0;34m)\u001b[0m\u001b[0;34m\u001b[0m\u001b[0;34m\u001b[0m\u001b[0m\n\u001b[0m\u001b[1;32m    236\u001b[0m         \u001b[0mself\u001b[0m\u001b[0;34m.\u001b[0m\u001b[0m_nmap_last_output\u001b[0m \u001b[0;34m=\u001b[0m \u001b[0mbytes\u001b[0m\u001b[0;34m.\u001b[0m\u001b[0mdecode\u001b[0m\u001b[0;34m(\u001b[0m\u001b[0mself\u001b[0m\u001b[0;34m.\u001b[0m\u001b[0m_nmap_last_output\u001b[0m\u001b[0;34m)\u001b[0m\u001b[0;34m\u001b[0m\u001b[0;34m\u001b[0m\u001b[0m\n\u001b[1;32m    237\u001b[0m         \u001b[0mnmap_err\u001b[0m \u001b[0;34m=\u001b[0m \u001b[0mbytes\u001b[0m\u001b[0;34m.\u001b[0m\u001b[0mdecode\u001b[0m\u001b[0;34m(\u001b[0m\u001b[0mnmap_err\u001b[0m\u001b[0;34m)\u001b[0m\u001b[0;34m\u001b[0m\u001b[0;34m\u001b[0m\u001b[0m\n",
            "\u001b[0;32m/usr/lib/python3.6/subprocess.py\u001b[0m in \u001b[0;36mcommunicate\u001b[0;34m(self, input, timeout)\u001b[0m\n\u001b[1;32m    861\u001b[0m \u001b[0;34m\u001b[0m\u001b[0m\n\u001b[1;32m    862\u001b[0m             \u001b[0;32mtry\u001b[0m\u001b[0;34m:\u001b[0m\u001b[0;34m\u001b[0m\u001b[0;34m\u001b[0m\u001b[0m\n\u001b[0;32m--> 863\u001b[0;31m                 \u001b[0mstdout\u001b[0m\u001b[0;34m,\u001b[0m \u001b[0mstderr\u001b[0m \u001b[0;34m=\u001b[0m \u001b[0mself\u001b[0m\u001b[0;34m.\u001b[0m\u001b[0m_communicate\u001b[0m\u001b[0;34m(\u001b[0m\u001b[0minput\u001b[0m\u001b[0;34m,\u001b[0m \u001b[0mendtime\u001b[0m\u001b[0;34m,\u001b[0m \u001b[0mtimeout\u001b[0m\u001b[0;34m)\u001b[0m\u001b[0;34m\u001b[0m\u001b[0;34m\u001b[0m\u001b[0m\n\u001b[0m\u001b[1;32m    864\u001b[0m             \u001b[0;32mfinally\u001b[0m\u001b[0;34m:\u001b[0m\u001b[0;34m\u001b[0m\u001b[0;34m\u001b[0m\u001b[0m\n\u001b[1;32m    865\u001b[0m                 \u001b[0mself\u001b[0m\u001b[0;34m.\u001b[0m\u001b[0m_communication_started\u001b[0m \u001b[0;34m=\u001b[0m \u001b[0;32mTrue\u001b[0m\u001b[0;34m\u001b[0m\u001b[0;34m\u001b[0m\u001b[0m\n",
            "\u001b[0;32m/usr/lib/python3.6/subprocess.py\u001b[0m in \u001b[0;36m_communicate\u001b[0;34m(self, input, endtime, orig_timeout)\u001b[0m\n\u001b[1;32m   1532\u001b[0m                         \u001b[0;32mraise\u001b[0m \u001b[0mTimeoutExpired\u001b[0m\u001b[0;34m(\u001b[0m\u001b[0mself\u001b[0m\u001b[0;34m.\u001b[0m\u001b[0margs\u001b[0m\u001b[0;34m,\u001b[0m \u001b[0morig_timeout\u001b[0m\u001b[0;34m)\u001b[0m\u001b[0;34m\u001b[0m\u001b[0;34m\u001b[0m\u001b[0m\n\u001b[1;32m   1533\u001b[0m \u001b[0;34m\u001b[0m\u001b[0m\n\u001b[0;32m-> 1534\u001b[0;31m                     \u001b[0mready\u001b[0m \u001b[0;34m=\u001b[0m \u001b[0mselector\u001b[0m\u001b[0;34m.\u001b[0m\u001b[0mselect\u001b[0m\u001b[0;34m(\u001b[0m\u001b[0mtimeout\u001b[0m\u001b[0;34m)\u001b[0m\u001b[0;34m\u001b[0m\u001b[0;34m\u001b[0m\u001b[0m\n\u001b[0m\u001b[1;32m   1535\u001b[0m                     \u001b[0mself\u001b[0m\u001b[0;34m.\u001b[0m\u001b[0m_check_timeout\u001b[0m\u001b[0;34m(\u001b[0m\u001b[0mendtime\u001b[0m\u001b[0;34m,\u001b[0m \u001b[0morig_timeout\u001b[0m\u001b[0;34m)\u001b[0m\u001b[0;34m\u001b[0m\u001b[0;34m\u001b[0m\u001b[0m\n\u001b[1;32m   1536\u001b[0m \u001b[0;34m\u001b[0m\u001b[0m\n",
            "\u001b[0;32m/usr/lib/python3.6/selectors.py\u001b[0m in \u001b[0;36mselect\u001b[0;34m(self, timeout)\u001b[0m\n\u001b[1;32m    374\u001b[0m             \u001b[0mready\u001b[0m \u001b[0;34m=\u001b[0m \u001b[0;34m[\u001b[0m\u001b[0;34m]\u001b[0m\u001b[0;34m\u001b[0m\u001b[0;34m\u001b[0m\u001b[0m\n\u001b[1;32m    375\u001b[0m             \u001b[0;32mtry\u001b[0m\u001b[0;34m:\u001b[0m\u001b[0;34m\u001b[0m\u001b[0;34m\u001b[0m\u001b[0m\n\u001b[0;32m--> 376\u001b[0;31m                 \u001b[0mfd_event_list\u001b[0m \u001b[0;34m=\u001b[0m \u001b[0mself\u001b[0m\u001b[0;34m.\u001b[0m\u001b[0m_poll\u001b[0m\u001b[0;34m.\u001b[0m\u001b[0mpoll\u001b[0m\u001b[0;34m(\u001b[0m\u001b[0mtimeout\u001b[0m\u001b[0;34m)\u001b[0m\u001b[0;34m\u001b[0m\u001b[0;34m\u001b[0m\u001b[0m\n\u001b[0m\u001b[1;32m    377\u001b[0m             \u001b[0;32mexcept\u001b[0m \u001b[0mInterruptedError\u001b[0m\u001b[0;34m:\u001b[0m\u001b[0;34m\u001b[0m\u001b[0;34m\u001b[0m\u001b[0m\n\u001b[1;32m    378\u001b[0m                 \u001b[0;32mreturn\u001b[0m \u001b[0mready\u001b[0m\u001b[0;34m\u001b[0m\u001b[0;34m\u001b[0m\u001b[0m\n",
            "\u001b[0;31mKeyboardInterrupt\u001b[0m: "
          ]
        }
      ]
    },
    {
      "cell_type": "code",
      "metadata": {
        "id": "EHfQGpy3CZmh",
        "colab_type": "code",
        "colab": {}
      },
      "source": [
        "import nmap"
      ],
      "execution_count": 0,
      "outputs": []
    },
    {
      "cell_type": "code",
      "metadata": {
        "id": "4oXw2xWPC0WI",
        "colab_type": "code",
        "colab": {}
      },
      "source": [
        "nm = nmap.PortScanner()"
      ],
      "execution_count": 0,
      "outputs": []
    },
    {
      "cell_type": "code",
      "metadata": {
        "id": "ITvXPnq6C4S5",
        "colab_type": "code",
        "colab": {}
      },
      "source": [
        "nm.scan(\"71.59.0.201\", \"0-65534\")"
      ],
      "execution_count": 0,
      "outputs": []
    },
    {
      "cell_type": "code",
      "metadata": {
        "id": "4u9i0C_LDaiR",
        "colab_type": "code",
        "colab": {}
      },
      "source": [
        "nm.command_line()"
      ],
      "execution_count": 0,
      "outputs": []
    },
    {
      "cell_type": "code",
      "metadata": {
        "id": "rwpGInh6Ddra",
        "colab_type": "code",
        "colab": {}
      },
      "source": [
        "nm.scan_info()"
      ],
      "execution_count": 0,
      "outputs": []
    },
    {
      "cell_type": "code",
      "metadata": {
        "id": "fFXF5SQdDiUE",
        "colab_type": "code",
        "colab": {}
      },
      "source": [
        ""
      ],
      "execution_count": 0,
      "outputs": []
    },
    {
      "cell_type": "code",
      "metadata": {
        "id": "xjDkSKYnB6sB",
        "colab_type": "code",
        "colab": {}
      },
      "source": [
        ""
      ],
      "execution_count": 0,
      "outputs": []
    }
  ]
}